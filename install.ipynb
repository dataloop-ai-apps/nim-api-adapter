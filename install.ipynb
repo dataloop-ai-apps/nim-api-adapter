{
 "cells": [
  {
   "cell_type": "code",
   "execution_count": 1,
   "metadata": {},
   "outputs": [],
   "source": [
    "import os\n",
    "import dtlpy as dl\n"
   ]
  },
  {
   "cell_type": "code",
   "execution_count": null,
   "metadata": {},
   "outputs": [],
   "source": [
    "use_rc_env = True\n",
    "if use_rc_env:\n",
    "    dl.setenv('rc')\n",
    "else:\n",
    "    dl.setenv('prod')\n",
    "# dl.logout()\n",
    "if dl.token_expired():\n",
    "    dl.login()\n",
    "\n",
    "if use_rc_env:\n",
    "    project = dl.projects.get(project_name='Husam Testing')\n",
    "else:\n",
    "    project = dl.projects.get(project_name='ShadiDemo')\n",
    "    # project = dl.projects.get(project_name='IPM development')\n",
    "    #project = dl.projects.get(project_name='Boston Dynamics POC')"
   ]
  },
  {
   "cell_type": "code",
   "execution_count": null,
   "metadata": {},
   "outputs": [],
   "source": [
    "project.organization"
   ]
  },
  {
   "cell_type": "code",
   "execution_count": 3,
   "metadata": {},
   "outputs": [],
   "source": [
    "# Publish your app\n",
    "# dpk = project.dpks.publish()\n",
    "dpk = project.dpks.publish(local_path=os.getcwd(), manifest_filepath=r'models\\embeddings\\nvidia\\nvclip\\dataloop.json')\n",
    "\n",
    "# Install or update the application\n",
    "try:\n",
    "    app = project.apps.get(app_name=dpk.display_name)\n",
    "    app.dpk_version = dpk.version\n",
    "    app.update()\n",
    "except dl.exceptions.NotFound:\n",
    "    print(\"installing ...\")\n",
    "    app = project.apps.install(dpk=dpk)\n"
   ]
  },
  {
   "cell_type": "code",
   "execution_count": null,
   "metadata": {},
   "outputs": [],
   "source": []
  }
 ],
 "metadata": {
  "kernelspec": {
   "display_name": "venv",
   "language": "python",
   "name": "python3"
  },
  "language_info": {
   "codemirror_mode": {
    "name": "ipython",
    "version": 3
   },
   "file_extension": ".py",
   "mimetype": "text/x-python",
   "name": "python",
   "nbconvert_exporter": "python",
   "pygments_lexer": "ipython3",
   "version": "3.11.0rc2"
  }
 },
 "nbformat": 4,
 "nbformat_minor": 2
}
